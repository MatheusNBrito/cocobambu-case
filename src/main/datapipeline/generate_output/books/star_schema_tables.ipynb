{
 "cells": [
  {
   "cell_type": "code",
   "execution_count": 1,
   "metadata": {},
   "outputs": [],
   "source": [
    "from pyspark.sql import SparkSession\n",
    "from pyspark.sql.functions import col, explode, lit, sum, year, month, dayofmonth \n",
    "from pyspark.sql.types import *\n",
    "import json"
   ]
  },
  {
   "cell_type": "code",
   "execution_count": 2,
   "metadata": {},
   "outputs": [],
   "source": [
    "# Inicializar SparkSession\n",
    "spark = SparkSession.builder.appName(\"LoadJSON\").getOrCreate()"
   ]
  },
  {
   "cell_type": "code",
   "execution_count": 3,
   "metadata": {},
   "outputs": [
    {
     "name": "stdout",
     "output_type": "stream",
     "text": [
      "JSON carregado com sucesso!\n"
     ]
    }
   ],
   "source": [
    "input_path = \"C:/Projetos/cocobambu-case/src/data/raw/ERP.json\"\n",
    "\n",
    "# Verifique se o JSON é válido\n",
    "with open(input_path, \"r\") as f:\n",
    "    try:\n",
    "        data = json.load(f)\n",
    "        print(\"JSON carregado com sucesso!\")\n",
    "    except json.JSONDecodeError as e:\n",
    "        print(\"Erro ao carregar JSON:\", e)\n"
   ]
  },
  {
   "cell_type": "code",
   "execution_count": null,
   "metadata": {},
   "outputs": [
    {
     "name": "stdout",
     "output_type": "stream",
     "text": [
      "root\n",
      " |-- curUTC: string (nullable = true)\n",
      " |-- guestChecks: array (nullable = true)\n",
      " |    |-- element: struct (containsNull = true)\n",
      " |    |    |-- balDueTtl: string (nullable = true)\n",
      " |    |    |-- chkNum: long (nullable = true)\n",
      " |    |    |-- chkTtl: double (nullable = true)\n",
      " |    |    |-- clsdBusDt: string (nullable = true)\n",
      " |    |    |-- clsdFlag: boolean (nullable = true)\n",
      " |    |    |-- clsdLcl: string (nullable = true)\n",
      " |    |    |-- clsdUTC: string (nullable = true)\n",
      " |    |    |-- detailLines: array (nullable = true)\n",
      " |    |    |    |-- element: struct (containsNull = true)\n",
      " |    |    |    |    |-- aggQty: long (nullable = true)\n",
      " |    |    |    |    |-- aggTtl: double (nullable = true)\n",
      " |    |    |    |    |-- busDt: string (nullable = true)\n",
      " |    |    |    |    |-- chkEmpId: long (nullable = true)\n",
      " |    |    |    |    |-- chkEmpNum: long (nullable = true)\n",
      " |    |    |    |    |-- detailLcl: string (nullable = true)\n",
      " |    |    |    |    |-- detailUTC: string (nullable = true)\n",
      " |    |    |    |    |-- dspQty: long (nullable = true)\n",
      " |    |    |    |    |-- dspTtl: double (nullable = true)\n",
      " |    |    |    |    |-- dtlId: long (nullable = true)\n",
      " |    |    |    |    |-- dtlOcNum: string (nullable = true)\n",
      " |    |    |    |    |-- dtlOtNum: long (nullable = true)\n",
      " |    |    |    |    |-- guestCheckLineItemId: long (nullable = true)\n",
      " |    |    |    |    |-- lastUpdateLcl: string (nullable = true)\n",
      " |    |    |    |    |-- lastUpdateUTC: string (nullable = true)\n",
      " |    |    |    |    |-- lineNum: long (nullable = true)\n",
      " |    |    |    |    |-- menuItem: struct (nullable = true)\n",
      " |    |    |    |    |    |-- activeTaxes: string (nullable = true)\n",
      " |    |    |    |    |    |-- inclTax: double (nullable = true)\n",
      " |    |    |    |    |    |-- miNum: long (nullable = true)\n",
      " |    |    |    |    |    |-- modFlag: boolean (nullable = true)\n",
      " |    |    |    |    |    |-- prcLvl: long (nullable = true)\n",
      " |    |    |    |    |-- rvcNum: long (nullable = true)\n",
      " |    |    |    |    |-- seatNum: long (nullable = true)\n",
      " |    |    |    |    |-- svcRndNum: long (nullable = true)\n",
      " |    |    |    |    |-- wsNum: long (nullable = true)\n",
      " |    |    |-- dscTtl: long (nullable = true)\n",
      " |    |    |-- empNum: long (nullable = true)\n",
      " |    |    |-- gstCnt: long (nullable = true)\n",
      " |    |    |-- guestCheckId: long (nullable = true)\n",
      " |    |    |-- lastTransLcl: string (nullable = true)\n",
      " |    |    |-- lastTransUTC: string (nullable = true)\n",
      " |    |    |-- lastUpdatedLcl: string (nullable = true)\n",
      " |    |    |-- lastUpdatedUTC: string (nullable = true)\n",
      " |    |    |-- nonTxblSlsTtl: string (nullable = true)\n",
      " |    |    |-- numChkPrntd: long (nullable = true)\n",
      " |    |    |-- numSrvcRd: long (nullable = true)\n",
      " |    |    |-- ocNum: string (nullable = true)\n",
      " |    |    |-- opnBusDt: string (nullable = true)\n",
      " |    |    |-- opnLcl: string (nullable = true)\n",
      " |    |    |-- opnUTC: string (nullable = true)\n",
      " |    |    |-- otNum: long (nullable = true)\n",
      " |    |    |-- payTtl: double (nullable = true)\n",
      " |    |    |-- rvcNum: long (nullable = true)\n",
      " |    |    |-- subTtl: double (nullable = true)\n",
      " |    |    |-- taxes: array (nullable = true)\n",
      " |    |    |    |-- element: struct (containsNull = true)\n",
      " |    |    |    |    |-- taxCollTtl: double (nullable = true)\n",
      " |    |    |    |    |-- taxNum: long (nullable = true)\n",
      " |    |    |    |    |-- taxRate: long (nullable = true)\n",
      " |    |    |    |    |-- txblSlsTtl: double (nullable = true)\n",
      " |    |    |    |    |-- type: long (nullable = true)\n",
      " |    |    |-- tblName: string (nullable = true)\n",
      " |    |    |-- tblNum: long (nullable = true)\n",
      " |-- locRef: string (nullable = true)\n",
      "\n",
      "+-------------------+-----------------------------------------------------------------------------------------------------------------------------------------------------------------------------------------------------------------------------------------------------------------------------------------------------------------------------------------------------------------------------------------------------------------------------------------------------------------------------------------------------------------------------------------------------+--------+\n",
      "|curUTC             |guestChecks                                                                                                                                                                                                                                                                                                                                                                                                                                                                                                                                          |locRef  |\n",
      "+-------------------+-----------------------------------------------------------------------------------------------------------------------------------------------------------------------------------------------------------------------------------------------------------------------------------------------------------------------------------------------------------------------------------------------------------------------------------------------------------------------------------------------------------------------------------------------------+--------+\n",
      "|2024-05-05T06:06:06|[{null, 1234, 109.9, 2024-01-01, true, 2024-01-01T09:12:12, 2024-01-01T12:12:12, [{1, 119.9, 2024-01-01, 10454318, 81001, 2024-01-01T06:09:09, 2024-01-01T09:09:09, 1, 119.9, 1, null, 1, 9988776655, 2024-01-01T07:10:10, 2024-11-01T10:10:10, 1, {28, 20.809091, 6042, false, 3}, 123, 1, 1, 7}], -10, 55555, 1, 1122334455, 2024-01-01T09:12:12, 2024-01-01T12:12:12, 2024-01-01T10:13:13, 2024-01-01T13:13:13, null, 2, 3, null, 2024-01-01, 2024-01-01T06:09:09, 2024-01-01T09:09:09, 1, 109.9, 101, 109.9, [{20.81, 28, 21, 119.9, 3}], 90, 1}]|99 CB CB|\n",
      "+-------------------+-----------------------------------------------------------------------------------------------------------------------------------------------------------------------------------------------------------------------------------------------------------------------------------------------------------------------------------------------------------------------------------------------------------------------------------------------------------------------------------------------------------------------------------------------------+--------+\n",
      "\n"
     ]
    }
   ],
   "source": [
    "erp_raw_df = spark.read \\\n",
    "    .option(\"multiLine\", \"true\") \\\n",
    "    .json(input_path)\n",
    "\n",
    "# Verifique o esquema e os dados\n",
    "erp_raw_df.printSchema()\n",
    "erp_raw_df.show(truncate=False)"
   ]
  },
  {
   "cell_type": "markdown",
   "metadata": {},
   "source": [
    "-"
   ]
  },
  {
   "cell_type": "code",
   "execution_count": 9,
   "metadata": {},
   "outputs": [],
   "source": [
    "# Explodir guestChecks e incluir locRef no contexto\n",
    "guest_checks = erp_raw_df.select(\n",
    "    col(\"locRef\").alias(\"storeId\"),  # Incluir locRef\n",
    "    explode(col(\"guestChecks\")).alias(\"guestCheck\")\n",
    ")\n",
    "\n",
    "# Expandir guestChecks mantendo locRef\n",
    "guest_checks = guest_checks.select(\n",
    "    col(\"storeId\"),  # Mantém locRef no contexto\n",
    "    col(\"guestCheck.*\")\n",
    ")"
   ]
  },
  {
   "cell_type": "code",
   "execution_count": 10,
   "metadata": {},
   "outputs": [
    {
     "name": "stdout",
     "output_type": "stream",
     "text": [
      "+------------+--------+----------+--------+-------------+----------+---------+\n",
      "|guestCheckId| storeId|     busDt|subTotal|discountTotal|checkTotal|paidTotal|\n",
      "+------------+--------+----------+--------+-------------+----------+---------+\n",
      "|  1122334455|99 CB CB|2024-01-01|   109.9|          -10|     109.9|    109.9|\n",
      "+------------+--------+----------+--------+-------------+----------+---------+\n",
      "\n"
     ]
    }
   ],
   "source": [
    "# Criar Tabela Fato: Sales\n",
    "fact_sales = guest_checks.select(\n",
    "    col(\"guestCheckId\"),\n",
    "    col(\"storeId\"),  # locRef já mapeado como storeId\n",
    "    col(\"opnBusDt\").alias(\"busDt\"),\n",
    "    col(\"subTtl\").alias(\"subTotal\"),\n",
    "    col(\"dscTtl\").alias(\"discountTotal\"),\n",
    "    col(\"chkTtl\").alias(\"checkTotal\"),\n",
    "    col(\"payTtl\").alias(\"paidTotal\")\n",
    ")\n",
    "\n",
    "fact_sales.show()"
   ]
  },
  {
   "cell_type": "code",
   "execution_count": 11,
   "metadata": {},
   "outputs": [
    {
     "name": "stdout",
     "output_type": "stream",
     "text": [
      "+------------+------------+\n",
      "|guestCheckId|taxCollected|\n",
      "+------------+------------+\n",
      "|  1122334455|       20.81|\n",
      "+------------+------------+\n",
      "\n"
     ]
    }
   ],
   "source": [
    "# Adicionar somatório de taxes.taxCollTtl\n",
    "taxes = guest_checks.select(\n",
    "    col(\"guestCheckId\"),\n",
    "    explode(col(\"taxes\")).alias(\"tax\")\n",
    ").select(\n",
    "    col(\"guestCheckId\"),\n",
    "    col(\"tax.taxCollTtl\").alias(\"taxCollected\")\n",
    ")\n",
    "\n",
    "taxes.show()"
   ]
  },
  {
   "cell_type": "code",
   "execution_count": 12,
   "metadata": {},
   "outputs": [
    {
     "name": "stdout",
     "output_type": "stream",
     "text": [
      "+------------+--------+----------+--------+-------------+----------+---------+------------+\n",
      "|guestCheckId| storeId|     busDt|subTotal|discountTotal|checkTotal|paidTotal|taxCollected|\n",
      "+------------+--------+----------+--------+-------------+----------+---------+------------+\n",
      "|  1122334455|99 CB CB|2024-01-01|   109.9|          -10|     109.9|    109.9|       20.81|\n",
      "+------------+--------+----------+--------+-------------+----------+---------+------------+\n",
      "\n"
     ]
    }
   ],
   "source": [
    "fact_sales = fact_sales.join(\n",
    "    taxes.groupBy(\"guestCheckId\").agg(sum(\"taxCollected\").alias(\"taxCollected\")),\n",
    "    on=\"guestCheckId\",\n",
    "    how=\"left\"\n",
    ")\n",
    "fact_sales.show()"
   ]
  },
  {
   "cell_type": "code",
   "execution_count": 13,
   "metadata": {},
   "outputs": [
    {
     "name": "stdout",
     "output_type": "stream",
     "text": [
      "+----------+----+-----+---+\n",
      "|      date|year|month|day|\n",
      "+----------+----+-----+---+\n",
      "|2024-01-01|2024|    1|  1|\n",
      "+----------+----+-----+---+\n",
      "\n"
     ]
    }
   ],
   "source": [
    "# Criar Dimensão Date\n",
    "dim_date = guest_checks.select(\n",
    "    col(\"opnBusDt\").alias(\"date\"),\n",
    "    year(col(\"opnBusDt\")).alias(\"year\"),\n",
    "    month(col(\"opnBusDt\")).alias(\"month\"),\n",
    "    dayofmonth(col(\"opnBusDt\")).alias(\"day\")\n",
    ").distinct()\n",
    "\n",
    "dim_date.show()"
   ]
  },
  {
   "cell_type": "code",
   "execution_count": 21,
   "metadata": {},
   "outputs": [
    {
     "name": "stdout",
     "output_type": "stream",
     "text": [
      "+--------+-------------+\n",
      "| storeId|storeLocation|\n",
      "+--------+-------------+\n",
      "|99 CB CB|   Coco Bambu|\n",
      "+--------+-------------+\n",
      "\n"
     ]
    }
   ],
   "source": [
    "# Criar Dimensão Store\n",
    "dim_store = erp_raw_df.select(\n",
    "    col(\"locRef\").alias(\"storeId\"),\n",
    "    lit(\"Coco Bambu\").alias(\"storeLocation\")  # Pode ser ajustado conforme necessário\n",
    ").distinct()\n",
    "\n",
    "dim_store.show()"
   ]
  },
  {
   "cell_type": "code",
   "execution_count": 16,
   "metadata": {},
   "outputs": [
    {
     "name": "stdout",
     "output_type": "stream",
     "text": [
      "+------------+--------------------+\n",
      "|guestCheckId|          detailLine|\n",
      "+------------+--------------------+\n",
      "|  1122334455|{1, 119.9, 2024-0...|\n",
      "+------------+--------------------+\n",
      "\n"
     ]
    }
   ],
   "source": [
    "# Criar Dimensão MenuItem\n",
    "detail_lines = guest_checks.select(\n",
    "    col(\"guestCheckId\"),\n",
    "    explode(col(\"detailLines\")).alias(\"detailLine\")\n",
    ")\n",
    "detail_lines.show()\n"
   ]
  },
  {
   "cell_type": "code",
   "execution_count": 17,
   "metadata": {},
   "outputs": [
    {
     "name": "stdout",
     "output_type": "stream",
     "text": [
      "+----------+----------+-----------+\n",
      "|menuItemId|priceLevel|activeTaxes|\n",
      "+----------+----------+-----------+\n",
      "|      6042|         3|         28|\n",
      "+----------+----------+-----------+\n",
      "\n"
     ]
    }
   ],
   "source": [
    "dim_menu_item = detail_lines.select(\n",
    "    col(\"detailLine.menuItem.miNum\").alias(\"menuItemId\"),\n",
    "    col(\"detailLine.menuItem.prcLvl\").alias(\"priceLevel\"),\n",
    "    col(\"detailLine.menuItem.activeTaxes\").alias(\"activeTaxes\")\n",
    ").distinct()\n",
    "\n",
    "\n",
    "dim_menu_item.show()"
   ]
  },
  {
   "cell_type": "code",
   "execution_count": 18,
   "metadata": {},
   "outputs": [
    {
     "name": "stdout",
     "output_type": "stream",
     "text": [
      "+-----+---------+-------+\n",
      "|taxId|taxAmount|taxRate|\n",
      "+-----+---------+-------+\n",
      "|   28|    20.81|     21|\n",
      "+-----+---------+-------+\n",
      "\n"
     ]
    }
   ],
   "source": [
    "# Criar Dimensão Taxes\n",
    "dim_taxes = guest_checks.select(\n",
    "    col(\"guestCheckId\"),\n",
    "    explode(col(\"taxes\")).alias(\"tax\")\n",
    ").select(\n",
    "    col(\"tax.taxNum\").alias(\"taxId\"),\n",
    "    col(\"tax.taxCollTtl\").alias(\"taxAmount\"),\n",
    "    col(\"tax.taxRate\").alias(\"taxRate\")\n",
    ").distinct()\n",
    "\n",
    "dim_taxes.show()"
   ]
  },
  {
   "cell_type": "code",
   "execution_count": 19,
   "metadata": {},
   "outputs": [
    {
     "name": "stdout",
     "output_type": "stream",
     "text": [
      "Pipeline concluído com sucesso!\n"
     ]
    }
   ],
   "source": [
    "# Salvar Tabelas em Parquet\n",
    "output_path = \"C:\\\\Projetos\\\\cocobambu-case\\\\src\\\\data\\\\processed\"\n",
    "fact_sales.write.parquet(f\"{output_path}/FactSales\", mode=\"overwrite\")\n",
    "dim_date.write.parquet(f\"{output_path}/DimDate\", mode=\"overwrite\")\n",
    "dim_store.write.parquet(f\"{output_path}/DimStore\", mode=\"overwrite\")\n",
    "dim_menu_item.write.parquet(f\"{output_path}/DimMenuItem\", mode=\"overwrite\")\n",
    "dim_taxes.write.parquet(f\"{output_path}/DimTaxes\", mode=\"overwrite\")\n",
    "\n",
    "print(\"Pipeline concluído com sucesso!\")"
   ]
  },
  {
   "cell_type": "markdown",
   "metadata": {},
   "source": [
    "---------------------------------------------------------------------------------------------------------------"
   ]
  }
 ],
 "metadata": {
  "kernelspec": {
   "display_name": "Python 3",
   "language": "python",
   "name": "python3"
  },
  "language_info": {
   "codemirror_mode": {
    "name": "ipython",
    "version": 3
   },
   "file_extension": ".py",
   "mimetype": "text/x-python",
   "name": "python",
   "nbconvert_exporter": "python",
   "pygments_lexer": "ipython3",
   "version": "3.12.6"
  }
 },
 "nbformat": 4,
 "nbformat_minor": 2
}
